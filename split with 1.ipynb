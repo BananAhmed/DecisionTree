{
 "cells": [
  {
   "cell_type": "code",
   "execution_count": 9,
   "metadata": {},
   "outputs": [
    {
     "data": {
      "text/html": [
       "<div>\n",
       "<style scoped>\n",
       "    .dataframe tbody tr th:only-of-type {\n",
       "        vertical-align: middle;\n",
       "    }\n",
       "\n",
       "    .dataframe tbody tr th {\n",
       "        vertical-align: top;\n",
       "    }\n",
       "\n",
       "    .dataframe thead th {\n",
       "        text-align: right;\n",
       "    }\n",
       "</style>\n",
       "<table border=\"1\" class=\"dataframe\">\n",
       "  <thead>\n",
       "    <tr style=\"text-align: right;\">\n",
       "      <th></th>\n",
       "      <th>Decision</th>\n",
       "      <th>student_case</th>\n",
       "      <th>Department</th>\n",
       "      <th>CS1</th>\n",
       "      <th>CS2</th>\n",
       "      <th>CS3</th>\n",
       "      <th>IS2</th>\n",
       "      <th>IS3</th>\n",
       "    </tr>\n",
       "  </thead>\n",
       "  <tbody>\n",
       "    <tr>\n",
       "      <th>0</th>\n",
       "      <td>C</td>\n",
       "      <td>stay</td>\n",
       "      <td>Informayion_system</td>\n",
       "      <td>D</td>\n",
       "      <td>D</td>\n",
       "      <td>D</td>\n",
       "      <td>D</td>\n",
       "      <td>C</td>\n",
       "    </tr>\n",
       "    <tr>\n",
       "      <th>1</th>\n",
       "      <td>A</td>\n",
       "      <td>new</td>\n",
       "      <td>Computer_science</td>\n",
       "      <td>D</td>\n",
       "      <td>D</td>\n",
       "      <td>C</td>\n",
       "      <td>B</td>\n",
       "      <td>C</td>\n",
       "    </tr>\n",
       "    <tr>\n",
       "      <th>2</th>\n",
       "      <td>C</td>\n",
       "      <td>new</td>\n",
       "      <td>Informayion_system</td>\n",
       "      <td>D</td>\n",
       "      <td>D</td>\n",
       "      <td>D</td>\n",
       "      <td>D</td>\n",
       "      <td>D</td>\n",
       "    </tr>\n",
       "    <tr>\n",
       "      <th>3</th>\n",
       "      <td>C</td>\n",
       "      <td>new</td>\n",
       "      <td>Informayion_system</td>\n",
       "      <td>D</td>\n",
       "      <td>D</td>\n",
       "      <td>D</td>\n",
       "      <td>D</td>\n",
       "      <td>D</td>\n",
       "    </tr>\n",
       "    <tr>\n",
       "      <th>4</th>\n",
       "      <td>C</td>\n",
       "      <td>new</td>\n",
       "      <td>Informayion_system</td>\n",
       "      <td>D</td>\n",
       "      <td>D</td>\n",
       "      <td>D</td>\n",
       "      <td>D</td>\n",
       "      <td>D</td>\n",
       "    </tr>\n",
       "    <tr>\n",
       "      <th>...</th>\n",
       "      <td>...</td>\n",
       "      <td>...</td>\n",
       "      <td>...</td>\n",
       "      <td>...</td>\n",
       "      <td>...</td>\n",
       "      <td>...</td>\n",
       "      <td>...</td>\n",
       "      <td>...</td>\n",
       "    </tr>\n",
       "    <tr>\n",
       "      <th>169</th>\n",
       "      <td>A</td>\n",
       "      <td>new</td>\n",
       "      <td>Computer_science</td>\n",
       "      <td>C</td>\n",
       "      <td>A</td>\n",
       "      <td>B</td>\n",
       "      <td>C</td>\n",
       "      <td>A</td>\n",
       "    </tr>\n",
       "    <tr>\n",
       "      <th>170</th>\n",
       "      <td>A</td>\n",
       "      <td>new</td>\n",
       "      <td>Informayion_system</td>\n",
       "      <td>C</td>\n",
       "      <td>D</td>\n",
       "      <td>B</td>\n",
       "      <td>D</td>\n",
       "      <td>B</td>\n",
       "    </tr>\n",
       "    <tr>\n",
       "      <th>171</th>\n",
       "      <td>A</td>\n",
       "      <td>new</td>\n",
       "      <td>Computer_science</td>\n",
       "      <td>A</td>\n",
       "      <td>A</td>\n",
       "      <td>A</td>\n",
       "      <td>B</td>\n",
       "      <td>A</td>\n",
       "    </tr>\n",
       "    <tr>\n",
       "      <th>172</th>\n",
       "      <td>D</td>\n",
       "      <td>new</td>\n",
       "      <td>Computer_science</td>\n",
       "      <td>B</td>\n",
       "      <td>B</td>\n",
       "      <td>C</td>\n",
       "      <td>C</td>\n",
       "      <td>B</td>\n",
       "    </tr>\n",
       "    <tr>\n",
       "      <th>173</th>\n",
       "      <td>D</td>\n",
       "      <td>new</td>\n",
       "      <td>Computer_science</td>\n",
       "      <td>C</td>\n",
       "      <td>B</td>\n",
       "      <td>C</td>\n",
       "      <td>D</td>\n",
       "      <td>C</td>\n",
       "    </tr>\n",
       "  </tbody>\n",
       "</table>\n",
       "<p>174 rows × 8 columns</p>\n",
       "</div>"
      ],
      "text/plain": [
       "    Decision student_case          Department CS1 CS2 CS3 IS2 IS3\n",
       "0          C         stay  Informayion_system   D   D   D   D   C\n",
       "1          A          new    Computer_science   D   D   C   B   C\n",
       "2          C          new  Informayion_system   D   D   D   D   D\n",
       "3          C          new  Informayion_system   D   D   D   D   D\n",
       "4          C          new  Informayion_system   D   D   D   D   D\n",
       "..       ...          ...                 ...  ..  ..  ..  ..  ..\n",
       "169        A          new    Computer_science   C   A   B   C   A\n",
       "170        A          new  Informayion_system   C   D   B   D   B\n",
       "171        A          new    Computer_science   A   A   A   B   A\n",
       "172        D          new    Computer_science   B   B   C   C   B\n",
       "173        D          new    Computer_science   C   B   C   D   C\n",
       "\n",
       "[174 rows x 8 columns]"
      ]
     },
     "execution_count": 9,
     "metadata": {},
     "output_type": "execute_result"
    }
   ],
   "source": [
    "from chefboost import Chefboost as chef\n",
    "import pandas as pd\n",
    "from sklearn.model_selection import train_test_split\n",
    "from sklearn.tree import DecisionTreeClassifier\n",
    "final=pd.read_excel('Data.xlsx')\n",
    "final_1=final[['Decision','student_case','Department','CS1','CS2','CS3','IS2','IS3']]\n",
    "final_1_train, final_1_test = train_test_split( final_1, test_size = 0.3, random_state = 42,stratify=final_1[\"Decision\"])\n",
    "final_1\n"
   ]
  },
  {
   "cell_type": "code",
   "execution_count": 11,
   "metadata": {},
   "outputs": [
    {
     "name": "stdout",
     "output_type": "stream",
     "text": [
      "['student_case', 'Department', 'CS1', 'CS2', 'CS3', 'IS2', 'IS3', 'Decision']\n",
      "[INFO]:  4 CPU cores will be allocated in parallel running\n",
      "CART  tree is going to be built...\n",
      "-------------------------\n",
      "finished in  20.856486558914185  seconds\n",
      "-------------------------\n",
      "Evaluate  train set\n",
      "-------------------------\n",
      "Accuracy:  94.21487603305785 % on  121  instances\n",
      "Labels:  ['A' 'B' 'D' 'C']\n",
      "Confusion matrix:  [[35, 5, 0, 0], [0, 58, 0, 1], [0, 1, 4, 0], [0, 0, 0, 17]]\n",
      "Decision  A  => Accuray:  95.8678 %, Precision:  87.5 %, Recall:  100.0 %, F1:  93.3333 %\n",
      "Decision  B  => Accuray:  94.2149 %, Precision:  98.3051 %, Recall:  90.625 %, F1:  94.309 %\n",
      "Decision  D  => Accuray:  99.1736 %, Precision:  80.0 %, Recall:  100.0 %, F1:  88.8889 %\n",
      "Decision  C  => Accuray:  99.1736 %, Precision:  100.0 %, Recall:  94.4444 %, F1:  97.1428 %\n",
      "['student_case', 'Department', 'CS1', 'CS2', 'CS3', 'IS2', 'IS3', 'Decision']\n",
      "-------------------------\n",
      "Evaluate  test set\n",
      "-------------------------\n",
      "Accuracy:  54.716981132075475 % on  53  instances\n",
      "Labels:  ['B' 'A' 'C' 'D']\n",
      "Confusion matrix:  [[18, 6, 5, 1], [5, 8, 0, 0], [2, 1, 3, 0], [3, 1, 0, 0]]\n",
      "Decision  B  => Accuray:  58.4906 %, Precision:  60.0 %, Recall:  64.2857 %, F1:  62.069 %\n",
      "Decision  A  => Accuray:  75.4717 %, Precision:  61.5385 %, Recall:  50.0 %, F1:  55.1724 %\n",
      "Decision  C  => Accuray:  84.9057 %, Precision:  50.0 %, Recall:  37.5 %, F1:  42.8571 %\n",
      "Decision  D  => Accuray:  90.566 %, Precision:  0.0 %, Recall:  0.0 %, F1:  0.0 %\n",
      "Decision rule:  outputs/rules/rules.py\n",
      "              importance\n",
      "feature                 \n",
      "Department        0.2535\n",
      "CS1               0.2002\n",
      "CS2               0.1713\n",
      "IS2               0.1614\n",
      "student_case      0.1381\n",
      "IS3               0.0895\n",
      "CS3              -0.0140\n"
     ]
    },
    {
     "name": "stderr",
     "output_type": "stream",
     "text": [
      "C:\\Users\\remem\\anaconda3\\lib\\site-packages\\chefboost\\commons\\functions.py:17: SettingWithCopyWarning: \n",
      "A value is trying to be set on a copy of a slice from a DataFrame.\n",
      "Try using .loc[row_indexer,col_indexer] = value instead\n",
      "\n",
      "See the caveats in the documentation: https://pandas.pydata.org/pandas-docs/stable/user_guide/indexing.html#returning-a-view-versus-a-copy\n",
      "  df['Prediction'] = predictions\n"
     ]
    },
    {
     "data": {
      "image/png": "[encoded data removed]",
      "text/plain": [
       "<Figure size 432x288 with 1 Axes>"
      ]
     },
     "metadata": {
      "needs_background": "light"
     },
     "output_type": "display_data"
    },
    {
     "name": "stdout",
     "output_type": "stream",
     "text": [
      "['student_case', 'Department', 'CS1', 'CS2', 'CS3', 'IS2', 'IS3', 'Decision']\n",
      "[INFO]:  4 CPU cores will be allocated in parallel running\n",
      "C4.5  tree is going to be built...\n",
      "-------------------------\n",
      "finished in  8.777040243148804  seconds\n",
      "-------------------------\n",
      "Evaluate  train set\n",
      "-------------------------\n",
      "Accuracy:  94.21487603305785 % on  121  instances\n",
      "Labels:  ['A' 'B' 'D' 'C']\n",
      "Confusion matrix:  [[35, 5, 0, 0], [0, 59, 1, 1], [0, 0, 3, 0], [0, 0, 0, 17]]\n",
      "Decision  A  => Accuray:  95.8678 %, Precision:  87.5 %, Recall:  100.0 %, F1:  93.3333 %\n",
      "Decision  B  => Accuray:  94.2149 %, Precision:  96.7213 %, Recall:  92.1875 %, F1:  94.4 %\n",
      "Decision  D  => Accuray:  99.1736 %, Precision:  100.0 %, Recall:  75.0 %, F1:  85.7143 %\n",
      "Decision  C  => Accuray:  99.1736 %, Precision:  100.0 %, Recall:  94.4444 %, F1:  97.1428 %\n",
      "['student_case', 'Department', 'CS1', 'CS2', 'CS3', 'IS2', 'IS3', 'Decision']\n",
      "-------------------------\n",
      "Evaluate  test set\n",
      "-------------------------\n",
      "Accuracy:  60.37735849056604 % on  53  instances\n",
      "Labels:  ['B' 'A' 'C' 'D']\n",
      "Confusion matrix:  [[21, 5, 6, 1], [3, 9, 0, 0], [4, 2, 2, 0], [0, 0, 0, 0]]\n",
      "Decision  B  => Accuray:  64.1509 %, Precision:  63.6364 %, Recall:  75.0 %, F1:  68.8525 %\n",
      "Decision  A  => Accuray:  81.1321 %, Precision:  75.0 %, Recall:  56.25 %, F1:  64.2857 %\n",
      "Decision  C  => Accuray:  77.3585 %, Precision:  25.0 %, Recall:  25.0 %, F1:  25.0 %\n",
      "Decision  D  => Accuray:  98.1132 %, Precision:  0.0 %, Recall:  0.0 %, F1:  0.0 %\n",
      "Decision rule:  outputs/rules/rules.py\n",
      "              importance\n",
      "feature                 \n",
      "CS1             0.259526\n",
      "Department      0.228723\n",
      "IS2             0.216622\n",
      "CS2             0.178218\n",
      "IS3             0.083208\n",
      "CS3             0.040504\n",
      "student_case   -0.006801\n"
     ]
    },
    {
     "name": "stderr",
     "output_type": "stream",
     "text": [
      "C:\\Users\\remem\\anaconda3\\lib\\site-packages\\chefboost\\commons\\functions.py:17: SettingWithCopyWarning: \n",
      "A value is trying to be set on a copy of a slice from a DataFrame.\n",
      "Try using .loc[row_indexer,col_indexer] = value instead\n",
      "\n",
      "See the caveats in the documentation: https://pandas.pydata.org/pandas-docs/stable/user_guide/indexing.html#returning-a-view-versus-a-copy\n",
      "  df['Prediction'] = predictions\n"
     ]
    },
    {
     "data": {
      "image/png": "[encoded data removed]",
      "text/plain": [
       "<Figure size 432x288 with 1 Axes>"
      ]
     },
     "metadata": {
      "needs_background": "light"
     },
     "output_type": "display_data"
    },
    {
     "name": "stdout",
     "output_type": "stream",
     "text": [
      "['student_case', 'Department', 'CS1', 'CS2', 'CS3', 'IS2', 'IS3', 'Decision']\n",
      "[INFO]:  4 CPU cores will be allocated in parallel running\n",
      "CHAID  tree is going to be built...\n",
      "-------------------------\n",
      "finished in  16.868727922439575  seconds\n",
      "-------------------------\n",
      "Evaluate  train set\n",
      "-------------------------\n",
      "Accuracy:  94.21487603305785 % on  121  instances\n",
      "Labels:  ['A' 'B' 'D' 'C']\n",
      "Confusion matrix:  [[33, 3, 0, 0], [2, 60, 0, 1], [0, 1, 4, 0], [0, 0, 0, 17]]\n",
      "Decision  A  => Accuray:  95.8678 %, Precision:  91.6667 %, Recall:  94.2857 %, F1:  92.9578 %\n",
      "Decision  B  => Accuray:  94.2149 %, Precision:  95.2381 %, Recall:  93.75 %, F1:  94.4882 %\n",
      "Decision  D  => Accuray:  99.1736 %, Precision:  80.0 %, Recall:  100.0 %, F1:  88.8889 %\n",
      "Decision  C  => Accuray:  99.1736 %, Precision:  100.0 %, Recall:  94.4444 %, F1:  97.1428 %\n",
      "['student_case', 'Department', 'CS1', 'CS2', 'CS3', 'IS2', 'IS3', 'Decision']\n",
      "-------------------------\n",
      "Evaluate  test set\n",
      "-------------------------\n",
      "Accuracy:  62.264150943396224 % on  53  instances\n",
      "Labels:  ['B' 'A' 'C' 'D']\n",
      "Confusion matrix:  [[24, 8, 5, 1], [1, 6, 0, 0], [0, 2, 3, 0], [3, 0, 0, 0]]\n",
      "Decision  B  => Accuray:  66.0377 %, Precision:  63.1579 %, Recall:  85.7143 %, F1:  72.7273 %\n",
      "Decision  A  => Accuray:  79.2453 %, Precision:  85.7143 %, Recall:  37.5 %, F1:  52.1739 %\n",
      "Decision  C  => Accuray:  86.7925 %, Precision:  60.0 %, Recall:  37.5 %, F1:  46.1538 %\n",
      "Decision  D  => Accuray:  92.4528 %, Precision:  0.0 %, Recall:  0.0 %, F1:  0.0 %\n",
      "Decision rule:  outputs/rules/rules.py\n",
      "              importance\n",
      "feature                 \n",
      "IS2             0.521952\n",
      "CS2             0.393939\n",
      "Department      0.375338\n",
      "IS3             0.341234\n",
      "student_case    0.186019\n",
      "CS1             0.182518\n",
      "CS3            -1.001000\n"
     ]
    },
    {
     "name": "stderr",
     "output_type": "stream",
     "text": [
      "C:\\Users\\remem\\anaconda3\\lib\\site-packages\\chefboost\\commons\\functions.py:17: SettingWithCopyWarning: \n",
      "A value is trying to be set on a copy of a slice from a DataFrame.\n",
      "Try using .loc[row_indexer,col_indexer] = value instead\n",
      "\n",
      "See the caveats in the documentation: https://pandas.pydata.org/pandas-docs/stable/user_guide/indexing.html#returning-a-view-versus-a-copy\n",
      "  df['Prediction'] = predictions\n"
     ]
    },
    {
     "data": {
      "image/png": "[encoded data removed]",
      "text/plain": [
       "<Figure size 432x288 with 1 Axes>"
      ]
     },
     "metadata": {
      "needs_background": "light"
     },
     "output_type": "display_data"
    }
   ],
   "source": [
    "config={'algorithm':'CART'}\n",
    "model=chef.fit(final_1_train,config)\n",
    "\n",
    "evaluation=chef.evaluate(model,final_1_test,task=\"test\")\n",
    "fi1 = chef.feature_importance(\"outputs/rules/rules.py\").set_index(\"feature\")\n",
    "print(fi1)\n",
    "fi1.plot(kind=\"barh\",title=\"feature Importance\");plt.show()\n",
    "\n",
    "config2={'algorithm':'C4.5'}\n",
    "model2=chef.fit(final_1_train,config2)\n",
    "\n",
    "evaluation2=chef.evaluate(model2,final_1_test,task=\"test\")\n",
    "fi2 = chef.feature_importance(\"outputs/rules/rules.py\").set_index(\"feature\")\n",
    "print(fi2)\n",
    "fi2.plot(kind=\"barh\",title=\"feature Importance\");plt.show()\n",
    "\n",
    "config3={'algorithm':'CHAID'}\n",
    "model3=chef.fit(final_1_train,config3)\n",
    "\n",
    "evaluation3=chef.evaluate(model3,final_1_test,task=\"test\")\n",
    "\n",
    "fi3 = chef.feature_importance(\"outputs/rules/rules.py\").set_index(\"feature\")\n",
    "print(fi3)\n",
    "fi3.plot(kind=\"barh\",title=\"feature Importance\");plt.show()"
   ]
  },
  {
   "cell_type": "code",
   "execution_count": 12,
   "metadata": {},
   "outputs": [
    {
     "name": "stdout",
     "output_type": "stream",
     "text": [
      "['student_case', 'Department', 'CS1', 'CS2', 'CS3', 'IS2', 'IS3', 'Decision']\n",
      "[INFO]:  4 CPU cores will be allocated in parallel running\n",
      "CHAID  tree is going to be built...\n",
      "-------------------------\n",
      "finished in  27.04144525527954  seconds\n",
      "-------------------------\n",
      "Evaluate  train set\n",
      "-------------------------\n",
      "Accuracy:  93.10344827586206 % on  174  instances\n",
      "Labels:  ['C' 'A' 'B' 'D']\n",
      "Confusion matrix:  [[24, 0, 1, 0], [1, 49, 5, 0], [1, 2, 84, 0], [0, 0, 2, 5]]\n",
      "Decision  C  => Accuray:  98.2759 %, Precision:  96.0 %, Recall:  92.3077 %, F1:  94.1177 %\n",
      "Decision  A  => Accuray:  95.4023 %, Precision:  89.0909 %, Recall:  96.0784 %, F1:  92.4528 %\n",
      "Decision  B  => Accuray:  93.6782 %, Precision:  96.5517 %, Recall:  91.3043 %, F1:  93.8547 %\n",
      "Decision  D  => Accuray:  98.8506 %, Precision:  71.4286 %, Recall:  100.0 %, F1:  83.3334 %\n",
      "Decision rule:  outputs/rules/rules.py\n",
      "              importance\n",
      "feature                 \n",
      "IS2             0.406241\n",
      "CS1             0.405641\n",
      "CS2             0.305631\n",
      "Department      0.251625\n",
      "IS3             0.187119\n",
      "student_case    0.058006\n",
      "CS3            -0.614261\n"
     ]
    },
    {
     "data": {
      "image/png": "[encoded data removed]",
      "text/plain": [
       "<Figure size 432x288 with 1 Axes>"
      ]
     },
     "metadata": {
      "needs_background": "light"
     },
     "output_type": "display_data"
    }
   ],
   "source": [
    "config={'algorithm':'CHAID'}\n",
    "model=chef.fit(final_1,config)\n",
    "fi = chef.feature_importance(\"outputs/rules/rules.py\").set_index(\"feature\")\n",
    "print(fi)\n",
    "fi.plot(kind=\"barh\",title=\"feature Importance\");plt.show()"
   ]
  },
  {
   "cell_type": "code",
   "execution_count": 5,
   "metadata": {},
   "outputs": [
    {
     "name": "stdout",
     "output_type": "stream",
     "text": [
      "['student_case', 'Department', 'CS1', 'CS2', 'CS3', 'IS2', 'IS3', 'Decision']\n",
      "[INFO]:  4 CPU cores will be allocated in parallel running\n",
      "CART  tree is going to be built...\n",
      "-------------------------\n",
      "finished in  10.081417560577393  seconds\n",
      "-------------------------\n",
      "Evaluate  train set\n",
      "-------------------------\n",
      "Accuracy:  93.10344827586206 % on  174  instances\n",
      "Labels:  ['C' 'A' 'B' 'D']\n",
      "Confusion matrix:  [[24, 1, 0, 0], [0, 49, 6, 0], [2, 1, 86, 2], [0, 0, 0, 3]]\n",
      "Decision  C  => Accuray:  98.2759 %, Precision:  96.0 %, Recall:  92.3077 %, F1:  94.1177 %\n",
      "Decision  A  => Accuray:  95.4023 %, Precision:  89.0909 %, Recall:  96.0784 %, F1:  92.4528 %\n",
      "Decision  B  => Accuray:  93.6782 %, Precision:  94.5055 %, Recall:  93.4783 %, F1:  93.9891 %\n",
      "Decision  D  => Accuray:  98.8506 %, Precision:  100.0 %, Recall:  60.0 %, F1:  75.0 %\n",
      "Decision rule:  outputs/rules/rules.py\n",
      "              importance\n",
      "feature                 \n",
      "CS1             0.282372\n",
      "Department      0.231577\n",
      "CS2             0.221778\n",
      "IS2             0.121788\n",
      "student_case    0.113089\n",
      "IS3             0.039096\n",
      "CS3            -0.009699\n"
     ]
    },
    {
     "ename": "NameError",
     "evalue": "name 'plt' is not defined",
     "output_type": "error",
     "traceback": [
      "\u001b[1;31m---------------------------------------------------------------------------\u001b[0m",
      "\u001b[1;31mNameError\u001b[0m                                 Traceback (most recent call last)",
      "\u001b[1;32m<ipython-input-5-eb19cebfed15>\u001b[0m in \u001b[0;36m<module>\u001b[1;34m\u001b[0m\n\u001b[0;32m      7\u001b[0m \u001b[0mfi\u001b[0m \u001b[1;33m=\u001b[0m \u001b[0mchef\u001b[0m\u001b[1;33m.\u001b[0m\u001b[0mfeature_importance\u001b[0m\u001b[1;33m(\u001b[0m\u001b[1;34m\"outputs/rules/rules.py\"\u001b[0m\u001b[1;33m)\u001b[0m\u001b[1;33m.\u001b[0m\u001b[0mset_index\u001b[0m\u001b[1;33m(\u001b[0m\u001b[1;34m\"feature\"\u001b[0m\u001b[1;33m)\u001b[0m\u001b[1;33m\u001b[0m\u001b[1;33m\u001b[0m\u001b[0m\n\u001b[0;32m      8\u001b[0m \u001b[0mprint\u001b[0m\u001b[1;33m(\u001b[0m\u001b[0mfi\u001b[0m\u001b[1;33m)\u001b[0m\u001b[1;33m\u001b[0m\u001b[1;33m\u001b[0m\u001b[0m\n\u001b[1;32m----> 9\u001b[1;33m \u001b[0mfi\u001b[0m\u001b[1;33m.\u001b[0m\u001b[0mplot\u001b[0m\u001b[1;33m(\u001b[0m\u001b[0mkind\u001b[0m\u001b[1;33m=\u001b[0m\u001b[1;34m\"barh\"\u001b[0m\u001b[1;33m,\u001b[0m\u001b[0mtitle\u001b[0m\u001b[1;33m=\u001b[0m\u001b[1;34m\"feature Importance\"\u001b[0m\u001b[1;33m)\u001b[0m\u001b[1;33m;\u001b[0m\u001b[0mplt\u001b[0m\u001b[1;33m.\u001b[0m\u001b[0mshow\u001b[0m\u001b[1;33m(\u001b[0m\u001b[1;33m)\u001b[0m\u001b[1;33m\u001b[0m\u001b[1;33m\u001b[0m\u001b[0m\n\u001b[0m",
      "\u001b[1;31mNameError\u001b[0m: name 'plt' is not defined"
     ]
    },
    {
     "data": {
      "image/png": "[encoded data removed]",
      "text/plain": [
       "<Figure size 432x288 with 1 Axes>"
      ]
     },
     "metadata": {
      "needs_background": "light"
     },
     "output_type": "display_data"
    }
   ],
   "source": [
    "final_1=final[['Decision','student_case','Department','CS1','CS2','CS3','IS2','IS3']]\n",
    "from sklearn.model_selection import train_test_split\n",
    "final_1_train, final_1_test = train_test_split( final_1, test_size = 0.3, random_state = 0)\n",
    "\n",
    "config={'algorithm':'CART'}\n",
    "model=chef.fit(final_1,config)\n",
    "fi = chef.feature_importance(\"outputs/rules/rules.py\").set_index(\"feature\")\n",
    "print(fi)\n",
    "fi.plot(kind=\"barh\",title=\"feature Importance\");plt.show()"
   ]
  },
  {
   "cell_type": "code",
   "execution_count": 1,
   "metadata": {},
   "outputs": [
    {
     "ename": "NameError",
     "evalue": "name 'chef' is not defined",
     "output_type": "error",
     "traceback": [
      "\u001b[1;31m---------------------------------------------------------------------------\u001b[0m",
      "\u001b[1;31mNameError\u001b[0m                                 Traceback (most recent call last)",
      "\u001b[1;32m<ipython-input-1-57cb82d06211>\u001b[0m in \u001b[0;36m<module>\u001b[1;34m\u001b[0m\n\u001b[1;32m----> 1\u001b[1;33m \u001b[0mfi\u001b[0m \u001b[1;33m=\u001b[0m \u001b[0mchef\u001b[0m\u001b[1;33m.\u001b[0m\u001b[0mfeature_importance\u001b[0m\u001b[1;33m(\u001b[0m\u001b[1;34m\"outputs/rules/rules.py\"\u001b[0m\u001b[1;33m)\u001b[0m\u001b[1;33m.\u001b[0m\u001b[0mset_index\u001b[0m\u001b[1;33m(\u001b[0m\u001b[1;34m\"feature\"\u001b[0m\u001b[1;33m)\u001b[0m\u001b[1;33m\u001b[0m\u001b[1;33m\u001b[0m\u001b[0m\n\u001b[0m\u001b[0;32m      2\u001b[0m \u001b[0mprint\u001b[0m\u001b[1;33m(\u001b[0m\u001b[0mfi\u001b[0m\u001b[1;33m)\u001b[0m\u001b[1;33m\u001b[0m\u001b[1;33m\u001b[0m\u001b[0m\n\u001b[0;32m      3\u001b[0m \u001b[0mfi\u001b[0m\u001b[1;33m.\u001b[0m\u001b[0mplot\u001b[0m\u001b[1;33m(\u001b[0m\u001b[0mkind\u001b[0m\u001b[1;33m=\u001b[0m\u001b[1;34m\"barh\"\u001b[0m\u001b[1;33m,\u001b[0m\u001b[0mtitle\u001b[0m\u001b[1;33m=\u001b[0m\u001b[1;34m\"feature Importance\"\u001b[0m\u001b[1;33m)\u001b[0m\u001b[1;33m;\u001b[0m\u001b[0mplt\u001b[0m\u001b[1;33m.\u001b[0m\u001b[0mshow\u001b[0m\u001b[1;33m(\u001b[0m\u001b[1;33m)\u001b[0m\u001b[1;33m\u001b[0m\u001b[1;33m\u001b[0m\u001b[0m\n",
      "\u001b[1;31mNameError\u001b[0m: name 'chef' is not defined"
     ]
    }
   ],
   "source": [
    "fi = chef.feature_importance(\"outputs/rules/rules.py\").set_index(\"feature\")\n",
    "print(fi)\n",
    "fi.plot(kind=\"barh\",title=\"feature Importance\");plt.show()"
   ]
  },
  {
   "cell_type": "code",
   "execution_count": 7,
   "metadata": {},
   "outputs": [],
   "source": [
    "import matplotlib.pyplot as plt "
   ]
  },
  {
   "cell_type": "code",
   "execution_count": 8,
   "metadata": {},
   "outputs": [
    {
     "name": "stdout",
     "output_type": "stream",
     "text": [
      "['student_case', 'Department', 'CS1', 'CS2', 'CS3', 'IS2', 'IS3', 'Decision']\n",
      "[INFO]:  4 CPU cores will be allocated in parallel running\n",
      "CART  tree is going to be built...\n",
      "-------------------------\n",
      "finished in  14.077683925628662  seconds\n",
      "-------------------------\n",
      "Evaluate  train set\n",
      "-------------------------\n",
      "Accuracy:  95.04132231404958 % on  121  instances\n",
      "Labels:  ['C' 'A' 'B' 'D']\n",
      "Confusion matrix:  [[14, 0, 0, 0], [0, 31, 3, 0], [1, 2, 66, 0], [0, 0, 0, 4]]\n",
      "Decision  C  => Accuray:  99.1736 %, Precision:  100.0 %, Recall:  93.3333 %, F1:  96.5517 %\n",
      "Decision  A  => Accuray:  95.8678 %, Precision:  91.1765 %, Recall:  93.9394 %, F1:  92.5373 %\n",
      "Decision  B  => Accuray:  95.0413 %, Precision:  95.6522 %, Recall:  95.6522 %, F1:  95.6522 %\n",
      "Decision  D  => Accuray:  100.0 %, Precision:  100.0 %, Recall:  100.0 %, F1:  100.0 %\n",
      "Decision rule:  outputs/rules/rules.py\n",
      "        feature  importance\n",
      "5           IS2      0.2400\n",
      "1    Department      0.2053\n",
      "2           CS1      0.1889\n",
      "3           CS2      0.1806\n",
      "0  student_case      0.1253\n",
      "6           IS3      0.0833\n",
      "4           CS3     -0.0234\n"
     ]
    }
   ],
   "source": [
    "config2={'algorithm':'C4.5'}\n",
    "model2=chef.fit(final_1_train,config)\n",
    "fi2 = chef.feature_importance(\"outputs/rules/rules.py\")\n",
    "print(fi2)"
   ]
  },
  {
   "cell_type": "code",
   "execution_count": 10,
   "metadata": {},
   "outputs": [
    {
     "ename": "IndentationError",
     "evalue": "unexpected indent (<ipython-input-10-6b2e204598d6>, line 2)",
     "output_type": "error",
     "traceback": [
      "\u001b[1;36m  File \u001b[1;32m\"<ipython-input-10-6b2e204598d6>\"\u001b[1;36m, line \u001b[1;32m2\u001b[0m\n\u001b[1;33m    prediction\u001b[0m\n\u001b[1;37m    ^\u001b[0m\n\u001b[1;31mIndentationError\u001b[0m\u001b[1;31m:\u001b[0m unexpected indent\n"
     ]
    }
   ],
   "source": [
    "prediction=chef.predict(model,['new','Computer_science','D','D','D','D','C'])\n",
    " prediction"
   ]
  },
  {
   "cell_type": "code",
   "execution_count": null,
   "metadata": {},
   "outputs": [],
   "source": []
  }
 ],
 "metadata": {
  "kernelspec": {
   "display_name": "Python 3",
   "language": "python",
   "name": "python3"
  },
  "language_info": {
   "codemirror_mode": {
    "name": "ipython",
    "version": 3
   },
   "file_extension": ".py",
   "mimetype": "text/x-python",
   "name": "python",
   "nbconvert_exporter": "python",
   "pygments_lexer": "ipython3",
   "version": "3.8.5"
  }
 },
 "nbformat": 4,
 "nbformat_minor": 4
}
