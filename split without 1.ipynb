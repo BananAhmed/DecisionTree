{
 "cells": [
  {
   "cell_type": "code",
   "execution_count": 4,
   "metadata": {},
   "outputs": [
    {
     "data": {
      "text/html": [
       "<div>\n",
       "<style scoped>\n",
       "    .dataframe tbody tr th:only-of-type {\n",
       "        vertical-align: middle;\n",
       "    }\n",
       "\n",
       "    .dataframe tbody tr th {\n",
       "        vertical-align: top;\n",
       "    }\n",
       "\n",
       "    .dataframe thead th {\n",
       "        text-align: right;\n",
       "    }\n",
       "</style>\n",
       "<table border=\"1\" class=\"dataframe\">\n",
       "  <thead>\n",
       "    <tr style=\"text-align: right;\">\n",
       "      <th></th>\n",
       "      <th>Decision</th>\n",
       "      <th>student_case</th>\n",
       "      <th>Department</th>\n",
       "      <th>CS2</th>\n",
       "      <th>CS3</th>\n",
       "      <th>IS2</th>\n",
       "      <th>IS3</th>\n",
       "    </tr>\n",
       "  </thead>\n",
       "  <tbody>\n",
       "    <tr>\n",
       "      <th>0</th>\n",
       "      <td>C</td>\n",
       "      <td>stay</td>\n",
       "      <td>Informayion_system</td>\n",
       "      <td>D</td>\n",
       "      <td>D</td>\n",
       "      <td>D</td>\n",
       "      <td>C</td>\n",
       "    </tr>\n",
       "    <tr>\n",
       "      <th>1</th>\n",
       "      <td>A</td>\n",
       "      <td>new</td>\n",
       "      <td>Computer_science</td>\n",
       "      <td>D</td>\n",
       "      <td>C</td>\n",
       "      <td>B</td>\n",
       "      <td>C</td>\n",
       "    </tr>\n",
       "    <tr>\n",
       "      <th>2</th>\n",
       "      <td>C</td>\n",
       "      <td>new</td>\n",
       "      <td>Informayion_system</td>\n",
       "      <td>D</td>\n",
       "      <td>D</td>\n",
       "      <td>D</td>\n",
       "      <td>D</td>\n",
       "    </tr>\n",
       "    <tr>\n",
       "      <th>3</th>\n",
       "      <td>C</td>\n",
       "      <td>new</td>\n",
       "      <td>Informayion_system</td>\n",
       "      <td>D</td>\n",
       "      <td>D</td>\n",
       "      <td>D</td>\n",
       "      <td>D</td>\n",
       "    </tr>\n",
       "    <tr>\n",
       "      <th>4</th>\n",
       "      <td>C</td>\n",
       "      <td>new</td>\n",
       "      <td>Informayion_system</td>\n",
       "      <td>D</td>\n",
       "      <td>D</td>\n",
       "      <td>D</td>\n",
       "      <td>D</td>\n",
       "    </tr>\n",
       "    <tr>\n",
       "      <th>...</th>\n",
       "      <td>...</td>\n",
       "      <td>...</td>\n",
       "      <td>...</td>\n",
       "      <td>...</td>\n",
       "      <td>...</td>\n",
       "      <td>...</td>\n",
       "      <td>...</td>\n",
       "    </tr>\n",
       "    <tr>\n",
       "      <th>169</th>\n",
       "      <td>A</td>\n",
       "      <td>new</td>\n",
       "      <td>Computer_science</td>\n",
       "      <td>A</td>\n",
       "      <td>B</td>\n",
       "      <td>C</td>\n",
       "      <td>A</td>\n",
       "    </tr>\n",
       "    <tr>\n",
       "      <th>170</th>\n",
       "      <td>A</td>\n",
       "      <td>new</td>\n",
       "      <td>Informayion_system</td>\n",
       "      <td>D</td>\n",
       "      <td>B</td>\n",
       "      <td>D</td>\n",
       "      <td>B</td>\n",
       "    </tr>\n",
       "    <tr>\n",
       "      <th>171</th>\n",
       "      <td>A</td>\n",
       "      <td>new</td>\n",
       "      <td>Computer_science</td>\n",
       "      <td>A</td>\n",
       "      <td>A</td>\n",
       "      <td>B</td>\n",
       "      <td>A</td>\n",
       "    </tr>\n",
       "    <tr>\n",
       "      <th>172</th>\n",
       "      <td>D</td>\n",
       "      <td>new</td>\n",
       "      <td>Computer_science</td>\n",
       "      <td>B</td>\n",
       "      <td>C</td>\n",
       "      <td>C</td>\n",
       "      <td>B</td>\n",
       "    </tr>\n",
       "    <tr>\n",
       "      <th>173</th>\n",
       "      <td>D</td>\n",
       "      <td>new</td>\n",
       "      <td>Computer_science</td>\n",
       "      <td>B</td>\n",
       "      <td>C</td>\n",
       "      <td>D</td>\n",
       "      <td>C</td>\n",
       "    </tr>\n",
       "  </tbody>\n",
       "</table>\n",
       "<p>174 rows × 7 columns</p>\n",
       "</div>"
      ],
      "text/plain": [
       "    Decision student_case          Department CS2 CS3 IS2 IS3\n",
       "0          C         stay  Informayion_system   D   D   D   C\n",
       "1          A          new    Computer_science   D   C   B   C\n",
       "2          C          new  Informayion_system   D   D   D   D\n",
       "3          C          new  Informayion_system   D   D   D   D\n",
       "4          C          new  Informayion_system   D   D   D   D\n",
       "..       ...          ...                 ...  ..  ..  ..  ..\n",
       "169        A          new    Computer_science   A   B   C   A\n",
       "170        A          new  Informayion_system   D   B   D   B\n",
       "171        A          new    Computer_science   A   A   B   A\n",
       "172        D          new    Computer_science   B   C   C   B\n",
       "173        D          new    Computer_science   B   C   D   C\n",
       "\n",
       "[174 rows x 7 columns]"
      ]
     },
     "execution_count": 4,
     "metadata": {},
     "output_type": "execute_result"
    }
   ],
   "source": [
    "from chefboost import Chefboost as chef\n",
    "import pandas as pd\n",
    "from chefboost import Chefboost as chef\n",
    "import pandas as pd\n",
    "from sklearn.model_selection import train_test_split\n",
    "from sklearn.tree import DecisionTreeClassifier\n",
    "final=pd.read_excel('Data.xlsx')\n",
    "final_1=final[['Decision','student_case','Department','CS2','CS3','IS2','IS3']]\n",
    "from sklearn.model_selection import train_test_split\n",
    "final_1_train, final_1_test = train_test_split( final_1, test_size = 0.3, random_state = 42,stratify=final_1[\"Decision\"])\n",
    "final_1"
   ]
  },
  {
   "cell_type": "code",
   "execution_count": 3,
   "metadata": {},
   "outputs": [
    {
     "name": "stdout",
     "output_type": "stream",
     "text": [
      "['student_case', 'Department', 'CS2', 'CS3', 'IS2', 'IS3', 'Decision']\n",
      "[INFO]:  4 CPU cores will be allocated in parallel running\n",
      "CART  tree is going to be built...\n",
      "-------------------------\n",
      "finished in  19.643339157104492  seconds\n",
      "-------------------------\n",
      "Evaluate  train set\n",
      "-------------------------\n",
      "Accuracy:  90.08264462809917 % on  121  instances\n",
      "Labels:  ['A' 'B' 'D' 'C']\n",
      "Confusion matrix:  [[34, 5, 0, 0], [1, 57, 2, 1], [0, 0, 1, 0], [0, 2, 1, 17]]\n",
      "Decision  A  => Accuray:  95.0413 %, Precision:  87.1795 %, Recall:  97.1429 %, F1:  91.8919 %\n",
      "Decision  B  => Accuray:  90.9091 %, Precision:  93.4426 %, Recall:  89.0625 %, F1:  91.2 %\n",
      "Decision  D  => Accuray:  97.5207 %, Precision:  100.0 %, Recall:  25.0 %, F1:  40.0 %\n",
      "Decision  C  => Accuray:  96.6942 %, Precision:  85.0 %, Recall:  94.4444 %, F1:  89.4737 %\n",
      "['student_case', 'Department', 'CS2', 'CS3', 'IS2', 'IS3', 'Decision']\n",
      "-------------------------\n",
      "Evaluate  test set\n",
      "-------------------------\n",
      "Accuracy:  60.37735849056604 % on  53  instances\n",
      "Labels:  ['B' 'A' 'C' 'D']\n",
      "Confusion matrix:  [[20, 6, 4, 1], [3, 8, 0, 0], [3, 1, 4, 0], [2, 1, 0, 0]]\n",
      "Decision  B  => Accuray:  64.1509 %, Precision:  64.5161 %, Recall:  71.4286 %, F1:  67.7966 %\n",
      "Decision  A  => Accuray:  79.2453 %, Precision:  72.7273 %, Recall:  50.0 %, F1:  59.2593 %\n",
      "Decision  C  => Accuray:  84.9057 %, Precision:  50.0 %, Recall:  50.0 %, F1:  50.0 %\n",
      "Decision  D  => Accuray:  92.4528 %, Precision:  0.0 %, Recall:  0.0 %, F1:  0.0 %\n",
      "['student_case', 'Department', 'CS2', 'CS3', 'IS2', 'IS3', 'Decision']\n",
      "[INFO]:  4 CPU cores will be allocated in parallel running\n",
      "C4.5  tree is going to be built...\n"
     ]
    },
    {
     "name": "stderr",
     "output_type": "stream",
     "text": [
      "C:\\Users\\remem\\anaconda3\\lib\\site-packages\\chefboost\\commons\\functions.py:17: SettingWithCopyWarning: \n",
      "A value is trying to be set on a copy of a slice from a DataFrame.\n",
      "Try using .loc[row_indexer,col_indexer] = value instead\n",
      "\n",
      "See the caveats in the documentation: https://pandas.pydata.org/pandas-docs/stable/user_guide/indexing.html#returning-a-view-versus-a-copy\n",
      "  df['Prediction'] = predictions\n"
     ]
    },
    {
     "name": "stdout",
     "output_type": "stream",
     "text": [
      "-------------------------\n",
      "finished in  6.414644479751587  seconds\n",
      "-------------------------\n",
      "Evaluate  train set\n",
      "-------------------------\n",
      "Accuracy:  90.08264462809917 % on  121  instances\n",
      "Labels:  ['A' 'B' 'D' 'C']\n",
      "Confusion matrix:  [[35, 6, 0, 0], [0, 57, 1, 3], [0, 1, 2, 0], [0, 0, 1, 15]]\n",
      "Decision  A  => Accuray:  95.0413 %, Precision:  85.3659 %, Recall:  100.0 %, F1:  92.1053 %\n",
      "Decision  B  => Accuray:  90.9091 %, Precision:  93.4426 %, Recall:  89.0625 %, F1:  91.2 %\n",
      "Decision  D  => Accuray:  97.5207 %, Precision:  66.6667 %, Recall:  50.0 %, F1:  57.1429 %\n",
      "Decision  C  => Accuray:  96.6942 %, Precision:  93.75 %, Recall:  83.3333 %, F1:  88.2353 %\n",
      "['student_case', 'Department', 'CS2', 'CS3', 'IS2', 'IS3', 'Decision']\n",
      "-------------------------\n",
      "Evaluate  test set\n",
      "-------------------------\n",
      "Accuracy:  56.60377358490566 % on  53  instances\n",
      "Labels:  ['B' 'A' 'C' 'D']\n",
      "Confusion matrix:  [[18, 5, 6, 1], [5, 10, 0, 0], [5, 1, 2, 0], [0, 0, 0, 0]]\n",
      "Decision  B  => Accuray:  58.4906 %, Precision:  60.0 %, Recall:  64.2857 %, F1:  62.069 %\n",
      "Decision  A  => Accuray:  79.2453 %, Precision:  66.6667 %, Recall:  62.5 %, F1:  64.5161 %\n",
      "Decision  C  => Accuray:  77.3585 %, Precision:  25.0 %, Recall:  25.0 %, F1:  25.0 %\n",
      "Decision  D  => Accuray:  98.1132 %, Precision:  0.0 %, Recall:  0.0 %, F1:  0.0 %\n",
      "['student_case', 'Department', 'CS2', 'CS3', 'IS2', 'IS3', 'Decision']\n",
      "[INFO]:  4 CPU cores will be allocated in parallel running\n",
      "CHAID  tree is going to be built...\n",
      "-------------------------\n",
      "finished in  18.88191318511963  seconds\n",
      "-------------------------\n",
      "Evaluate  train set\n",
      "-------------------------\n",
      "Accuracy:  90.08264462809917 % on  121  instances\n",
      "Labels:  ['A' 'B' 'D' 'C']\n",
      "Confusion matrix:  [[35, 6, 0, 0], [0, 55, 1, 1], [0, 1, 3, 1], [0, 2, 0, 16]]\n",
      "Decision  A  => Accuray:  95.0413 %, Precision:  85.3659 %, Recall:  100.0 %, F1:  92.1053 %\n",
      "Decision  B  => Accuray:  90.9091 %, Precision:  96.4912 %, Recall:  85.9375 %, F1:  90.9091 %\n",
      "Decision  D  => Accuray:  97.5207 %, Precision:  60.0 %, Recall:  75.0 %, F1:  66.6667 %\n",
      "Decision  C  => Accuray:  96.6942 %, Precision:  88.8889 %, Recall:  88.8889 %, F1:  88.8889 %\n",
      "['student_case', 'Department', 'CS2', 'CS3', 'IS2', 'IS3', 'Decision']\n",
      "-------------------------\n",
      "Evaluate  test set\n",
      "-------------------------\n",
      "Accuracy:  66.0377358490566 % on  53  instances\n",
      "Labels:  ['B' 'A' 'C' 'D']\n",
      "Confusion matrix:  [[21, 4, 3, 1], [4, 10, 0, 0], [1, 1, 4, 0], [2, 1, 1, 0]]\n",
      "Decision  B  => Accuray:  71.6981 %, Precision:  72.4138 %, Recall:  75.0 %, F1:  73.6842 %\n",
      "Decision  A  => Accuray:  81.1321 %, Precision:  71.4286 %, Recall:  62.5 %, F1:  66.6667 %\n",
      "Decision  C  => Accuray:  88.6792 %, Precision:  66.6667 %, Recall:  50.0 %, F1:  57.1429 %\n",
      "Decision  D  => Accuray:  90.566 %, Precision:  0.0 %, Recall:  0.0 %, F1:  0.0 %\n"
     ]
    }
   ],
   "source": [
    "config={'algorithm':'CART'}\n",
    "model=chef.fit(final_1_train,config)\n",
    "chef.save_model(model,\"modelCART.pkl\")\n",
    "evaluation=chef.evaluate(model,final_1_test,task=\"test\")\n",
    "\n",
    "config2={'algorithm':'C4.5'}\n",
    "model2=chef.fit(final_1_train,config2)\n",
    "chef.save_model(model,\"modelc5.pkl\")\n",
    "evaluation2=chef.evaluate(model2,final_1_test,task=\"test\")\n",
    "\n",
    "config3={'algorithm':'CHAID'}\n",
    "model3=chef.fit(final_1_train,config3)\n",
    "chef.save_model(model,\"modelchaid.pkl\")\n",
    "evaluation3=chef.evaluate(model3,final_1_test,task=\"test\")\n",
    "\n"
   ]
  },
  {
   "cell_type": "code",
   "execution_count": 14,
   "metadata": {},
   "outputs": [
    {
     "data": {
      "text/plain": [
       "'B'"
      ]
     },
     "execution_count": 14,
     "metadata": {},
     "output_type": "execute_result"
    }
   ],
   "source": [
    " prediction=chef.predict(model,['new','Computer_science','B','C','D','C'])\n",
    " prediction"
   ]
  },
  {
   "cell_type": "code",
   "execution_count": 14,
   "metadata": {},
   "outputs": [
    {
     "name": "stdout",
     "output_type": "stream",
     "text": [
      "Decision rule:  outputs/rules/rules.py\n"
     ]
    }
   ],
   "source": [
    "fi = chef.feature_importance(\"outputs/rules/rules.py\")"
   ]
  },
  {
   "cell_type": "code",
   "execution_count": 21,
   "metadata": {},
   "outputs": [
    {
     "name": "stdout",
     "output_type": "stream",
     "text": [
      "        feature  importance\n",
      "4           IS2    1.639772\n",
      "5           IS3    0.905719\n",
      "1    Department    0.518696\n",
      "2           CS2    0.418516\n",
      "0  student_case    0.184463\n",
      "3           CS3   -2.667167\n"
     ]
    }
   ],
   "source": [
    "  print(fi)"
   ]
  },
  {
   "cell_type": "code",
   "execution_count": 20,
   "metadata": {},
   "outputs": [
    {
     "data": {
      "image/png": "[encoded data removed]",
      "text/plain": [
       "<Figure size 432x288 with 1 Axes>"
      ]
     },
     "metadata": {
      "needs_background": "light"
     },
     "output_type": "display_data"
    }
   ],
   "source": [
    "fi.plot.bar();plt.show()"
   ]
  },
  {
   "cell_type": "code",
   "execution_count": 17,
   "metadata": {},
   "outputs": [],
   "source": [
    "import matplotlib.pyplot as plt "
   ]
  },
  {
   "cell_type": "code",
   "execution_count": 19,
   "metadata": {},
   "outputs": [],
   "source": []
  },
  {
   "cell_type": "code",
   "execution_count": null,
   "metadata": {},
   "outputs": [],
   "source": []
  }
 ],
 "metadata": {
  "kernelspec": {
   "display_name": "Python 3",
   "language": "python",
   "name": "python3"
  },
  "language_info": {
   "codemirror_mode": {
    "name": "ipython",
    "version": 3
   },
   "file_extension": ".py",
   "mimetype": "text/x-python",
   "name": "python",
   "nbconvert_exporter": "python",
   "pygments_lexer": "ipython3",
   "version": "3.8.5"
  }
 },
 "nbformat": 4,
 "nbformat_minor": 4
}
